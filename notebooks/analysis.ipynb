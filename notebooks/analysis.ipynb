{
 "cells": [
  {
   "cell_type": "markdown",
   "metadata": {
    "colab_type": "text",
    "id": "mvfuskeNLVkb"
   },
   "source": [
    "Data Source: https://www.uci.org/mountain-bike/results"
   ]
  },
  {
   "cell_type": "code",
   "execution_count": 1,
   "metadata": {
    "colab": {},
    "colab_type": "code",
    "executionInfo": {
     "elapsed": 513,
     "status": "ok",
     "timestamp": 1594891008823,
     "user": {
      "displayName": "Andrew Mackay",
      "photoUrl": "https://lh3.googleusercontent.com/a-/AOh14GipvhJwlVpg1-ArYl_wNJCOJchIEp9jy27NBVfoXg=s64",
      "userId": "06804410358976473893"
     },
     "user_tz": -60
    },
    "id": "U4eU3G7qovF_"
   },
   "outputs": [],
   "source": [
    "import json"
   ]
  },
  {
   "cell_type": "code",
   "execution_count": 2,
   "metadata": {
    "colab": {},
    "colab_type": "code",
    "executionInfo": {
     "elapsed": 387,
     "status": "ok",
     "timestamp": 1594891009714,
     "user": {
      "displayName": "Andrew Mackay",
      "photoUrl": "https://lh3.googleusercontent.com/a-/AOh14GipvhJwlVpg1-ArYl_wNJCOJchIEp9jy27NBVfoXg=s64",
      "userId": "06804410358976473893"
     },
     "user_tz": -60
    },
    "id": "yF4XA1jOAhhX"
   },
   "outputs": [],
   "source": [
    "DICIPLINE_ID_MOUNTAIN_BIKE = '7'\n",
    "\n",
    "RACE_TYPE_ID_DOWNHILL = '19'\n",
    "RACE_TYPE_ID_ENDURO = '122'\n",
    "RACE_TYPE_ID_CROSS_COUNTRY_OLYMPIC = '92'\n",
    "\n",
    "SEASON_ID_YEAR_MAP = {\n",
    "    2020: '129',\n",
    "    2019: '128',\n",
    "    2018: '123',\n",
    "    2017: '22',\n",
    "    2016: '12',\n",
    "    2015: '4',\n",
    "    2014: '102',\n",
    "    2013: '103',\n",
    "    2012: '104',\n",
    "    2011: '105',\n",
    "    2010: '106',\n",
    "    2009: '107',\n",
    "}\n",
    "\n",
    "COMPETITION_CLASS_CODE_WORLD_CHAMPS = 'CM'\n",
    "COMPETITION_CLASS_CODE_WORLD_CUP = 'CDM'\n",
    "COMPETITION_CLASS_CODE_ENDURO_WORLD_SERIES = '3'\n",
    "\n",
    "CATEGORY_CODE_MEN_ELITE = 'Men Elite'\n",
    "CATEGORY_CODE_WOMEN_ELITE = 'Women Elite'\n",
    "\n",
    "RACE_TYPE_CODE_DHI = 'DHI'\n",
    "RACE_TYPE_CODE_ENDURO = 'END'\n",
    "RACE_TYPE_CODE_XCO = 'XCO'\n",
    "\n",
    "RACE_TYPE_ID_TO_CODE_MAP = {\n",
    "    RACE_TYPE_ID_DOWNHILL: RACE_TYPE_CODE_DHI,\n",
    "    RACE_TYPE_ID_ENDURO: RACE_TYPE_CODE_ENDURO,\n",
    "    RACE_TYPE_ID_CROSS_COUNTRY_OLYMPIC: RACE_TYPE_CODE_XCO\n",
    "}"
   ]
  },
  {
   "cell_type": "code",
   "execution_count": 3,
   "metadata": {
    "colab": {},
    "colab_type": "code",
    "executionInfo": {
     "elapsed": 882,
     "status": "ok",
     "timestamp": 1594891011120,
     "user": {
      "displayName": "Andrew Mackay",
      "photoUrl": "https://lh3.googleusercontent.com/a-/AOh14GipvhJwlVpg1-ArYl_wNJCOJchIEp9jy27NBVfoXg=s64",
      "userId": "06804410358976473893"
     },
     "user_tz": -60
    },
    "id": "iDvkn-1ktdEW"
   },
   "outputs": [],
   "source": [
    "with open('data/competitions_with_races_and_events_and_results.json') as f:\n",
    "    competitions_with_races_and_events_and_results = json.load(f)"
   ]
  },
  {
   "cell_type": "code",
   "execution_count": 4,
   "metadata": {
    "colab": {},
    "colab_type": "code",
    "executionInfo": {
     "elapsed": 698,
     "status": "ok",
     "timestamp": 1594891631765,
     "user": {
      "displayName": "Andrew Mackay",
      "photoUrl": "https://lh3.googleusercontent.com/a-/AOh14GipvhJwlVpg1-ArYl_wNJCOJchIEp9jy27NBVfoXg=s64",
      "userId": "06804410358976473893"
     },
     "user_tz": -60
    },
    "id": "MgulEV78403W"
   },
   "outputs": [],
   "source": [
    "total_age_dh_mens = 0\n",
    "number_of_items_in_total_age_dh_mens = 0\n",
    "\n",
    "total_age_enduro_mens = 0\n",
    "number_of_items_in_total_age_enduro_mens = 0\n",
    "\n",
    "total_age_xc_mens = 0\n",
    "number_of_items_in_total_age_xc_mens = 0\n",
    "\n",
    "total_age_dh_womens = 0\n",
    "number_of_items_in_total_age_dh_womens = 0\n",
    "\n",
    "total_age_enduro_womens = 0\n",
    "number_of_items_in_total_age_enduro_womens = 0\n",
    "\n",
    "total_age_xc_womens = 0\n",
    "number_of_items_in_total_age_xc_womens = 0"
   ]
  },
  {
   "cell_type": "code",
   "execution_count": 5,
   "metadata": {
    "colab": {},
    "colab_type": "code",
    "executionInfo": {
     "elapsed": 628,
     "status": "ok",
     "timestamp": 1594891631986,
     "user": {
      "displayName": "Andrew Mackay",
      "photoUrl": "https://lh3.googleusercontent.com/a-/AOh14GipvhJwlVpg1-ArYl_wNJCOJchIEp9jy27NBVfoXg=s64",
      "userId": "06804410358976473893"
     },
     "user_tz": -60
    },
    "id": "kEDGYi1gB0TQ"
   },
   "outputs": [],
   "source": [
    "for race_type in competitions_with_races_and_events_and_results:\n",
    "    for year in competitions_with_races_and_events_and_results[race_type]:\n",
    "        for competition in competitions_with_races_and_events_and_results[race_type][year]:\n",
    "            for race in competition['races']:\n",
    "                for category_code in [CATEGORY_CODE_MEN_ELITE, CATEGORY_CODE_WOMEN_ELITE]:\n",
    "                    if category_code in race['events']:\n",
    "                        age = int(race['events'][category_code]['results'][0]['Age'])\n",
    "                        if race_type == RACE_TYPE_ID_DOWNHILL:\n",
    "                            if category_code == CATEGORY_CODE_MEN_ELITE:\n",
    "                                total_age_dh_mens += age\n",
    "                                number_of_items_in_total_age_dh_mens += 1\n",
    "                            elif category_code == CATEGORY_CODE_WOMEN_ELITE:\n",
    "                                total_age_dh_womens += age\n",
    "                                number_of_items_in_total_age_dh_womens += 1\n",
    "                        elif race_type == RACE_TYPE_ID_ENDURO:\n",
    "                            if category_code == CATEGORY_CODE_MEN_ELITE:\n",
    "                                total_age_enduro_mens += age\n",
    "                                number_of_items_in_total_age_enduro_mens += 1\n",
    "                            elif category_code == CATEGORY_CODE_WOMEN_ELITE:\n",
    "                                total_age_enduro_womens += age\n",
    "                                number_of_items_in_total_age_enduro_womens += 1\n",
    "                        elif race_type == RACE_TYPE_ID_CROSS_COUNTRY_OLYMPIC:\n",
    "                            if category_code == CATEGORY_CODE_MEN_ELITE:\n",
    "                                total_age_xc_mens += age\n",
    "                                number_of_items_in_total_age_xc_mens += 1\n",
    "                            elif category_code == CATEGORY_CODE_WOMEN_ELITE:\n",
    "                                total_age_xc_womens += age\n",
    "                                number_of_items_in_total_age_xc_womens += 1"
   ]
  },
  {
   "cell_type": "code",
   "execution_count": 6,
   "metadata": {
    "colab": {},
    "colab_type": "code",
    "executionInfo": {
     "elapsed": 901,
     "status": "ok",
     "timestamp": 1594891821182,
     "user": {
      "displayName": "Andrew Mackay",
      "photoUrl": "https://lh3.googleusercontent.com/a-/AOh14GipvhJwlVpg1-ArYl_wNJCOJchIEp9jy27NBVfoXg=s64",
      "userId": "06804410358976473893"
     },
     "user_tz": -60
    },
    "id": "k_nhpqLE9Wl5"
   },
   "outputs": [],
   "source": [
    "def round_age(age):\n",
    "    return round(age, 2)"
   ]
  },
  {
   "cell_type": "code",
   "execution_count": 7,
   "metadata": {
    "colab": {
     "base_uri": "https://localhost:8080/",
     "height": 144
    },
    "colab_type": "code",
    "executionInfo": {
     "elapsed": 746,
     "status": "ok",
     "timestamp": 1594892119120,
     "user": {
      "displayName": "Andrew Mackay",
      "photoUrl": "https://lh3.googleusercontent.com/a-/AOh14GipvhJwlVpg1-ArYl_wNJCOJchIEp9jy27NBVfoXg=s64",
      "userId": "06804410358976473893"
     },
     "user_tz": -60
    },
    "id": "VsB8P9Wd5-HV",
    "outputId": "5f5eae48-8dc0-42e9-bcd9-b24f20e8efa9"
   },
   "outputs": [
    {
     "name": "stdout",
     "output_type": "stream",
     "text": [
      "Average Age for Event Winners (years)\n",
      "DH Mens: 26.53\n",
      "DH Womens: 26.64\n",
      "Enduro Mens: 26.83\n",
      "Enduro Womens: 27.72\n",
      "XC Mens: 29.11\n",
      "XC Womens: 28.0\n"
     ]
    }
   ],
   "source": [
    "print('Average Age for Event Winners (years)')\n",
    "print(f'DH Mens: {round_age(total_age_dh_mens / number_of_items_in_total_age_dh_mens)}')\n",
    "print(f'DH Womens: {round_age(total_age_dh_womens / number_of_items_in_total_age_dh_womens)}')\n",
    "print(f'Enduro Mens: {round_age(total_age_enduro_mens / number_of_items_in_total_age_enduro_mens)}')\n",
    "print(f'Enduro Womens: {round_age(total_age_enduro_womens / number_of_items_in_total_age_enduro_womens)}')\n",
    "print(f'XC Mens: {round_age(total_age_xc_mens / number_of_items_in_total_age_xc_mens)}')\n",
    "print(f'XC Womens: {round_age(total_age_xc_womens / number_of_items_in_total_age_xc_womens)}')"
   ]
  },
  {
   "cell_type": "code",
   "execution_count": null,
   "metadata": {
    "colab": {},
    "colab_type": "code",
    "id": "oyj9MIAb7HPN"
   },
   "outputs": [],
   "source": []
  }
 ],
 "metadata": {
  "colab": {
   "authorship_tag": "ABX9TyNavxB/26bU4l5lkWMZT3be",
   "collapsed_sections": [],
   "mount_file_id": "1o2w4U4KTbOwds3tRPkghthoX4WCBAmUh",
   "name": "analysis.ipynb",
   "provenance": []
  },
  "kernelspec": {
   "display_name": "Python 3",
   "language": "python",
   "name": "python3"
  },
  "language_info": {
   "codemirror_mode": {
    "name": "ipython",
    "version": 3
   },
   "file_extension": ".py",
   "mimetype": "text/x-python",
   "name": "python",
   "nbconvert_exporter": "python",
   "pygments_lexer": "ipython3",
   "version": "3.8.2"
  }
 },
 "nbformat": 4,
 "nbformat_minor": 1
}
